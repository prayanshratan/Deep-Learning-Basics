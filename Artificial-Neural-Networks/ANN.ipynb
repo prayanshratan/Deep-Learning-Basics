{
 "cells": [
  {
   "cell_type": "code",
   "execution_count": 1,
   "metadata": {},
   "outputs": [],
   "source": [
    "# Importing the libraries\n",
    "import numpy as np\n",
    "import matplotlib.pyplot as plt\n",
    "import pandas as pd"
   ]
  },
  {
   "cell_type": "code",
   "execution_count": 2,
   "metadata": {},
   "outputs": [],
   "source": [
    "# Importing the dataset\n",
    "dataset = pd.read_csv('Churn_Modelling.csv')\n",
    "X = pd.DataFrame(dataset.iloc[:, 3:13].values)\n",
    "y = dataset.iloc[:, 13].values "
   ]
  },
  {
   "cell_type": "code",
   "execution_count": 6,
   "metadata": {},
   "outputs": [
    {
     "name": "stderr",
     "output_type": "stream",
     "text": [
      "/home/prayansh/.local/lib/python3.5/site-packages/sklearn/preprocessing/_encoders.py:368: FutureWarning: The handling of integer data will change in version 0.22. Currently, the categories are determined based on the range [0, max(values)], while in the future they will be determined based on the unique values.\n",
      "If you want the future behaviour and silence this warning, you can specify \"categories='auto'\".\n",
      "In case you used a LabelEncoder before this OneHotEncoder to convert the categories to integers, then you can now use the OneHotEncoder directly.\n",
      "  warnings.warn(msg, FutureWarning)\n",
      "/home/prayansh/.local/lib/python3.5/site-packages/sklearn/preprocessing/_encoders.py:390: DeprecationWarning: The 'categorical_features' keyword is deprecated in version 0.20 and will be removed in 0.22. You can use the ColumnTransformer instead.\n",
      "  \"use the ColumnTransformer instead.\", DeprecationWarning)\n"
     ]
    }
   ],
   "source": [
    "# Encoding categorical data\n",
    "from sklearn.preprocessing import LabelEncoder, OneHotEncoder\n",
    "labelencoder_X_1 = LabelEncoder()\n",
    "X.values[:, 1] = labelencoder_X_1.fit_transform(X.values[:, 1])\n",
    "labelencoder_X_2 = LabelEncoder()\n",
    "X.values[:, 2] = labelencoder_X_2.fit_transform(X.values[:, 2])\n",
    "onehotencoder = OneHotEncoder(categorical_features = [1])\n",
    "X = onehotencoder.fit_transform(X).toarray()\n",
    "X = X[:, 1:]"
   ]
  },
  {
   "cell_type": "code",
   "execution_count": 7,
   "metadata": {},
   "outputs": [],
   "source": [
    "# Splitting the dataset into the Training set and Test set\n",
    "from sklearn.model_selection import train_test_split\n",
    "X_train, X_test, y_train, y_test = train_test_split(X, y, test_size = 0.20, random_state = 0)"
   ]
  },
  {
   "cell_type": "code",
   "execution_count": 8,
   "metadata": {},
   "outputs": [],
   "source": [
    "# Feature Scaling\n",
    "from sklearn.preprocessing import StandardScaler\n",
    "sc = StandardScaler()\n",
    "X_train = sc.fit_transform(X_train)\n",
    "X_test = sc.transform(X_test)"
   ]
  },
  {
   "cell_type": "code",
   "execution_count": 9,
   "metadata": {},
   "outputs": [
    {
     "name": "stderr",
     "output_type": "stream",
     "text": [
      "Using TensorFlow backend.\n"
     ]
    }
   ],
   "source": [
    "import keras"
   ]
  },
  {
   "cell_type": "code",
   "execution_count": 10,
   "metadata": {},
   "outputs": [],
   "source": [
    "from keras.models import Sequential\n",
    "from keras.layers import Dense"
   ]
  },
  {
   "cell_type": "code",
   "execution_count": 11,
   "metadata": {},
   "outputs": [],
   "source": [
    "classifier = Sequential()"
   ]
  },
  {
   "cell_type": "code",
   "execution_count": 12,
   "metadata": {},
   "outputs": [
    {
     "name": "stderr",
     "output_type": "stream",
     "text": [
      "/home/prayansh/.local/lib/python3.5/site-packages/ipykernel_launcher.py:1: UserWarning: Update your `Dense` call to the Keras 2 API: `Dense(units=6, input_dim=11, activation=\"relu\", kernel_initializer=\"uniform\")`\n",
      "  \"\"\"Entry point for launching an IPython kernel.\n"
     ]
    }
   ],
   "source": [
    "classifier.add(Dense(output_dim = 6, init = 'uniform', activation = 'relu', input_dim = 11))"
   ]
  },
  {
   "cell_type": "code",
   "execution_count": 13,
   "metadata": {},
   "outputs": [
    {
     "name": "stderr",
     "output_type": "stream",
     "text": [
      "/home/prayansh/.local/lib/python3.5/site-packages/ipykernel_launcher.py:1: UserWarning: Update your `Dense` call to the Keras 2 API: `Dense(units=6, activation=\"relu\", kernel_initializer=\"uniform\")`\n",
      "  \"\"\"Entry point for launching an IPython kernel.\n"
     ]
    }
   ],
   "source": [
    "classifier.add(Dense(output_dim = 6, init = 'uniform', activation = 'relu'))"
   ]
  },
  {
   "cell_type": "code",
   "execution_count": 14,
   "metadata": {},
   "outputs": [
    {
     "name": "stderr",
     "output_type": "stream",
     "text": [
      "/home/prayansh/.local/lib/python3.5/site-packages/ipykernel_launcher.py:1: UserWarning: Update your `Dense` call to the Keras 2 API: `Dense(units=1, activation=\"sigmoid\", kernel_initializer=\"uniform\")`\n",
      "  \"\"\"Entry point for launching an IPython kernel.\n"
     ]
    }
   ],
   "source": [
    "classifier.add(Dense(output_dim = 1, init = 'uniform', activation = 'sigmoid'))"
   ]
  },
  {
   "cell_type": "code",
   "execution_count": 15,
   "metadata": {},
   "outputs": [],
   "source": [
    "classifier.compile(optimizer = 'adam', loss = 'binary_crossentropy', metrics = ['accuracy'])"
   ]
  },
  {
   "cell_type": "code",
   "execution_count": 16,
   "metadata": {},
   "outputs": [
    {
     "name": "stderr",
     "output_type": "stream",
     "text": [
      "/home/prayansh/.local/lib/python3.5/site-packages/ipykernel_launcher.py:1: UserWarning: The `nb_epoch` argument in `fit` has been renamed `epochs`.\n",
      "  \"\"\"Entry point for launching an IPython kernel.\n"
     ]
    },
    {
     "name": "stdout",
     "output_type": "stream",
     "text": [
      "Epoch 1/100\n",
      "8000/8000 [==============================] - 4s 460us/step - loss: 0.4808 - acc: 0.7954\n",
      "Epoch 2/100\n",
      "8000/8000 [==============================] - 2s 232us/step - loss: 0.4275 - acc: 0.7960\n",
      "Epoch 3/100\n",
      "8000/8000 [==============================] - 2s 227us/step - loss: 0.4214 - acc: 0.8010\n",
      "Epoch 4/100\n",
      "8000/8000 [==============================] - 2s 229us/step - loss: 0.4171 - acc: 0.8230\n",
      "Epoch 5/100\n",
      "8000/8000 [==============================] - 2s 238us/step - loss: 0.4151 - acc: 0.8297\n",
      "Epoch 6/100\n",
      "8000/8000 [==============================] - 2s 208us/step - loss: 0.4131 - acc: 0.8316\n",
      "Epoch 7/100\n",
      "8000/8000 [==============================] - 1s 181us/step - loss: 0.4115 - acc: 0.8309\n",
      "Epoch 8/100\n",
      "8000/8000 [==============================] - 1s 187us/step - loss: 0.4105 - acc: 0.8319\n",
      "Epoch 9/100\n",
      "8000/8000 [==============================] - 1s 184us/step - loss: 0.4090 - acc: 0.8331\n",
      "Epoch 10/100\n",
      "8000/8000 [==============================] - 2s 188us/step - loss: 0.4079 - acc: 0.8339\n",
      "Epoch 11/100\n",
      "8000/8000 [==============================] - 1s 184us/step - loss: 0.4072 - acc: 0.8336\n",
      "Epoch 12/100\n",
      "8000/8000 [==============================] - 2s 194us/step - loss: 0.4065 - acc: 0.8337\n",
      "Epoch 13/100\n",
      "8000/8000 [==============================] - 2s 258us/step - loss: 0.4058 - acc: 0.8355\n",
      "Epoch 14/100\n",
      "8000/8000 [==============================] - 2s 203us/step - loss: 0.4051 - acc: 0.8340\n",
      "Epoch 15/100\n",
      "8000/8000 [==============================] - 2s 215us/step - loss: 0.4047 - acc: 0.8355\n",
      "Epoch 16/100\n",
      "8000/8000 [==============================] - 2s 192us/step - loss: 0.4039 - acc: 0.8344\n",
      "Epoch 17/100\n",
      "8000/8000 [==============================] - 2s 254us/step - loss: 0.4039 - acc: 0.8360\n",
      "Epoch 18/100\n",
      "8000/8000 [==============================] - 2s 194us/step - loss: 0.4035 - acc: 0.8347 0s - loss: 0.3985 - ac\n",
      "Epoch 19/100\n",
      "8000/8000 [==============================] - 2s 220us/step - loss: 0.4032 - acc: 0.8336\n",
      "Epoch 20/100\n",
      "8000/8000 [==============================] - 2s 246us/step - loss: 0.4029 - acc: 0.8340\n",
      "Epoch 21/100\n",
      "8000/8000 [==============================] - 2s 254us/step - loss: 0.4028 - acc: 0.8341\n",
      "Epoch 22/100\n",
      "8000/8000 [==============================] - 2s 223us/step - loss: 0.4025 - acc: 0.8351\n",
      "Epoch 23/100\n",
      "8000/8000 [==============================] - 2s 201us/step - loss: 0.4023 - acc: 0.8370\n",
      "Epoch 24/100\n",
      "8000/8000 [==============================] - 2s 211us/step - loss: 0.4022 - acc: 0.8345\n",
      "Epoch 25/100\n",
      "8000/8000 [==============================] - 1s 183us/step - loss: 0.4018 - acc: 0.8359\n",
      "Epoch 26/100\n",
      "8000/8000 [==============================] - 1s 179us/step - loss: 0.4019 - acc: 0.8365\n",
      "Epoch 27/100\n",
      "8000/8000 [==============================] - 1s 157us/step - loss: 0.4018 - acc: 0.8354\n",
      "Epoch 28/100\n",
      "8000/8000 [==============================] - 1s 178us/step - loss: 0.4012 - acc: 0.8359\n",
      "Epoch 29/100\n",
      "8000/8000 [==============================] - 1s 140us/step - loss: 0.4008 - acc: 0.8375\n",
      "Epoch 30/100\n",
      "8000/8000 [==============================] - 1s 140us/step - loss: 0.4010 - acc: 0.8352\n",
      "Epoch 31/100\n",
      "8000/8000 [==============================] - 1s 178us/step - loss: 0.4007 - acc: 0.8334\n",
      "Epoch 32/100\n",
      "8000/8000 [==============================] - 2s 266us/step - loss: 0.4008 - acc: 0.8360\n",
      "Epoch 33/100\n",
      "8000/8000 [==============================] - 3s 313us/step - loss: 0.4009 - acc: 0.8357\n",
      "Epoch 34/100\n",
      "8000/8000 [==============================] - 2s 286us/step - loss: 0.4008 - acc: 0.8356\n",
      "Epoch 35/100\n",
      "8000/8000 [==============================] - 2s 246us/step - loss: 0.4002 - acc: 0.8352\n",
      "Epoch 36/100\n",
      "8000/8000 [==============================] - 2s 275us/step - loss: 0.4000 - acc: 0.8365\n",
      "Epoch 37/100\n",
      "8000/8000 [==============================] - 2s 233us/step - loss: 0.4005 - acc: 0.8372\n",
      "Epoch 38/100\n",
      "8000/8000 [==============================] - 2s 273us/step - loss: 0.4003 - acc: 0.8366\n",
      "Epoch 39/100\n",
      "8000/8000 [==============================] - 2s 267us/step - loss: 0.3996 - acc: 0.8352\n",
      "Epoch 40/100\n",
      "8000/8000 [==============================] - 3s 341us/step - loss: 0.4000 - acc: 0.8345\n",
      "Epoch 41/100\n",
      "8000/8000 [==============================] - 2s 261us/step - loss: 0.4004 - acc: 0.8355\n",
      "Epoch 42/100\n",
      "8000/8000 [==============================] - 2s 242us/step - loss: 0.4001 - acc: 0.8360\n",
      "Epoch 43/100\n",
      "8000/8000 [==============================] - 1s 182us/step - loss: 0.3997 - acc: 0.8347\n",
      "Epoch 44/100\n",
      "8000/8000 [==============================] - 2s 197us/step - loss: 0.4000 - acc: 0.8346\n",
      "Epoch 45/100\n",
      "8000/8000 [==============================] - 2s 199us/step - loss: 0.3998 - acc: 0.8359\n",
      "Epoch 46/100\n",
      "8000/8000 [==============================] - 2s 200us/step - loss: 0.3996 - acc: 0.8355\n",
      "Epoch 47/100\n",
      "8000/8000 [==============================] - 2s 197us/step - loss: 0.3996 - acc: 0.8362\n",
      "Epoch 48/100\n",
      "8000/8000 [==============================] - 2s 195us/step - loss: 0.4000 - acc: 0.8367\n",
      "Epoch 49/100\n",
      "8000/8000 [==============================] - 2s 198us/step - loss: 0.3997 - acc: 0.8346\n",
      "Epoch 50/100\n",
      "8000/8000 [==============================] - 2s 200us/step - loss: 0.3998 - acc: 0.8351\n",
      "Epoch 51/100\n",
      "8000/8000 [==============================] - 2s 209us/step - loss: 0.3991 - acc: 0.8356\n",
      "Epoch 52/100\n",
      "8000/8000 [==============================] - 2s 195us/step - loss: 0.3997 - acc: 0.8354\n",
      "Epoch 53/100\n",
      "8000/8000 [==============================] - 2s 196us/step - loss: 0.3992 - acc: 0.8370\n",
      "Epoch 54/100\n",
      "8000/8000 [==============================] - 2s 248us/step - loss: 0.3995 - acc: 0.8369\n",
      "Epoch 55/100\n",
      "8000/8000 [==============================] - 2s 258us/step - loss: 0.3992 - acc: 0.8352\n",
      "Epoch 56/100\n",
      "8000/8000 [==============================] - 2s 234us/step - loss: 0.3998 - acc: 0.8354\n",
      "Epoch 57/100\n",
      "8000/8000 [==============================] - 2s 219us/step - loss: 0.3990 - acc: 0.8349\n",
      "Epoch 58/100\n",
      "8000/8000 [==============================] - 2s 248us/step - loss: 0.3995 - acc: 0.8339\n",
      "Epoch 59/100\n",
      "8000/8000 [==============================] - 2s 254us/step - loss: 0.3992 - acc: 0.8359\n",
      "Epoch 60/100\n",
      "8000/8000 [==============================] - 2s 262us/step - loss: 0.3995 - acc: 0.8356\n",
      "Epoch 61/100\n",
      "8000/8000 [==============================] - 2s 280us/step - loss: 0.3994 - acc: 0.8371\n",
      "Epoch 62/100\n",
      "8000/8000 [==============================] - 2s 293us/step - loss: 0.3995 - acc: 0.8340\n",
      "Epoch 63/100\n",
      "8000/8000 [==============================] - 2s 229us/step - loss: 0.3990 - acc: 0.8357\n",
      "Epoch 64/100\n",
      "8000/8000 [==============================] - 2s 228us/step - loss: 0.3996 - acc: 0.8344\n",
      "Epoch 65/100\n",
      "8000/8000 [==============================] - 2s 250us/step - loss: 0.3996 - acc: 0.8346\n",
      "Epoch 66/100\n",
      "8000/8000 [==============================] - 3s 327us/step - loss: 0.3991 - acc: 0.8345\n",
      "Epoch 67/100\n",
      "8000/8000 [==============================] - 2s 236us/step - loss: 0.3995 - acc: 0.8355\n",
      "Epoch 68/100\n",
      "8000/8000 [==============================] - 2s 265us/step - loss: 0.3991 - acc: 0.8351\n",
      "Epoch 69/100\n",
      "8000/8000 [==============================] - 2s 196us/step - loss: 0.3991 - acc: 0.8359\n",
      "Epoch 70/100\n",
      "8000/8000 [==============================] - 2s 210us/step - loss: 0.3991 - acc: 0.8367\n",
      "Epoch 71/100\n",
      "8000/8000 [==============================] - 2s 195us/step - loss: 0.3991 - acc: 0.8365\n",
      "Epoch 72/100\n",
      "8000/8000 [==============================] - 2s 196us/step - loss: 0.3990 - acc: 0.8364\n",
      "Epoch 73/100\n",
      "8000/8000 [==============================] - 2s 195us/step - loss: 0.3990 - acc: 0.8356\n",
      "Epoch 74/100\n",
      "8000/8000 [==============================] - 2s 201us/step - loss: 0.3991 - acc: 0.8380\n",
      "Epoch 75/100\n",
      "8000/8000 [==============================] - 2s 195us/step - loss: 0.3979 - acc: 0.8359\n",
      "Epoch 76/100\n",
      "8000/8000 [==============================] - 2s 197us/step - loss: 0.3995 - acc: 0.8355\n",
      "Epoch 77/100\n",
      "8000/8000 [==============================] - 2s 194us/step - loss: 0.3983 - acc: 0.8370\n",
      "Epoch 78/100\n",
      "8000/8000 [==============================] - 2s 197us/step - loss: 0.3989 - acc: 0.8350\n",
      "Epoch 79/100\n",
      "8000/8000 [==============================] - 1s 178us/step - loss: 0.3992 - acc: 0.8352\n",
      "Epoch 80/100\n",
      "8000/8000 [==============================] - 2s 195us/step - loss: 0.3990 - acc: 0.8350\n",
      "Epoch 81/100\n",
      "8000/8000 [==============================] - 2s 193us/step - loss: 0.3988 - acc: 0.8362\n"
     ]
    },
    {
     "name": "stdout",
     "output_type": "stream",
     "text": [
      "Epoch 82/100\n",
      "8000/8000 [==============================] - 1s 184us/step - loss: 0.3985 - acc: 0.8367\n",
      "Epoch 83/100\n",
      "8000/8000 [==============================] - 1s 184us/step - loss: 0.3985 - acc: 0.8360\n",
      "Epoch 84/100\n",
      "8000/8000 [==============================] - 1s 179us/step - loss: 0.3984 - acc: 0.8365\n",
      "Epoch 85/100\n",
      "8000/8000 [==============================] - 1s 182us/step - loss: 0.3987 - acc: 0.8357\n",
      "Epoch 86/100\n",
      "8000/8000 [==============================] - 1s 182us/step - loss: 0.3988 - acc: 0.8366\n",
      "Epoch 87/100\n",
      "8000/8000 [==============================] - 1s 176us/step - loss: 0.3987 - acc: 0.8362\n",
      "Epoch 88/100\n",
      "8000/8000 [==============================] - 1s 182us/step - loss: 0.3992 - acc: 0.8344\n",
      "Epoch 89/100\n",
      "8000/8000 [==============================] - 1s 178us/step - loss: 0.3985 - acc: 0.8359\n",
      "Epoch 90/100\n",
      "8000/8000 [==============================] - 1s 180us/step - loss: 0.3986 - acc: 0.8369\n",
      "Epoch 91/100\n",
      "8000/8000 [==============================] - 1s 183us/step - loss: 0.3988 - acc: 0.8359\n",
      "Epoch 92/100\n",
      "8000/8000 [==============================] - 1s 183us/step - loss: 0.3981 - acc: 0.8364\n",
      "Epoch 93/100\n",
      "8000/8000 [==============================] - 1s 182us/step - loss: 0.3984 - acc: 0.8362\n",
      "Epoch 94/100\n",
      "8000/8000 [==============================] - 2s 189us/step - loss: 0.3986 - acc: 0.8365\n",
      "Epoch 95/100\n",
      "8000/8000 [==============================] - 1s 177us/step - loss: 0.3987 - acc: 0.8355\n",
      "Epoch 96/100\n",
      "8000/8000 [==============================] - 2s 189us/step - loss: 0.3986 - acc: 0.8360\n",
      "Epoch 97/100\n",
      "8000/8000 [==============================] - 1s 181us/step - loss: 0.3986 - acc: 0.8336\n",
      "Epoch 98/100\n",
      "8000/8000 [==============================] - 1s 185us/step - loss: 0.3992 - acc: 0.8365\n",
      "Epoch 99/100\n",
      "8000/8000 [==============================] - 1s 186us/step - loss: 0.3986 - acc: 0.8360\n",
      "Epoch 100/100\n",
      "8000/8000 [==============================] - 1s 187us/step - loss: 0.3984 - acc: 0.8357\n"
     ]
    },
    {
     "data": {
      "text/plain": [
       "<keras.callbacks.History at 0x7fcb77a53630>"
      ]
     },
     "execution_count": 16,
     "metadata": {},
     "output_type": "execute_result"
    }
   ],
   "source": [
    "classifier.fit(X_train, y_train, batch_size = 10, nb_epoch = 100)"
   ]
  },
  {
   "cell_type": "code",
   "execution_count": 17,
   "metadata": {},
   "outputs": [],
   "source": [
    "# Predicting the Test set results\n",
    "y_pred = classifier.predict(X_test)\n",
    "y_pred = (y_pred > 0.5)"
   ]
  },
  {
   "cell_type": "code",
   "execution_count": 18,
   "metadata": {},
   "outputs": [
    {
     "name": "stdout",
     "output_type": "stream",
     "text": [
      "[[1536   59]\n",
      " [ 258  147]]\n"
     ]
    }
   ],
   "source": [
    "# Making the Confusion Matrix\n",
    "from sklearn.metrics import confusion_matrix\n",
    "cm = confusion_matrix(y_test, y_pred)\n",
    "print (cm)"
   ]
  },
  {
   "cell_type": "code",
   "execution_count": null,
   "metadata": {},
   "outputs": [],
   "source": [
    "(1529 + 161) / (1529 + 66 + 244 + 161)"
   ]
  },
  {
   "cell_type": "code",
   "execution_count": null,
   "metadata": {},
   "outputs": [],
   "source": [
    "1529 + 66 + 244 + 161"
   ]
  },
  {
   "cell_type": "code",
   "execution_count": null,
   "metadata": {},
   "outputs": [],
   "source": [
    "print(dataset.head())"
   ]
  }
 ],
 "metadata": {
  "kernelspec": {
   "display_name": "Python 2",
   "language": "python",
   "name": "python2"
  },
  "language_info": {
   "codemirror_mode": {
    "name": "ipython",
    "version": 3
   },
   "file_extension": ".py",
   "mimetype": "text/x-python",
   "name": "python",
   "nbconvert_exporter": "python",
   "pygments_lexer": "ipython3",
   "version": "3.5.2"
  },
  "varInspector": {
   "cols": {
    "lenName": 16,
    "lenType": 16,
    "lenVar": 40
   },
   "kernels_config": {
    "python": {
     "delete_cmd_postfix": "",
     "delete_cmd_prefix": "del ",
     "library": "var_list.py",
     "varRefreshCmd": "print(var_dic_list())"
    },
    "r": {
     "delete_cmd_postfix": ") ",
     "delete_cmd_prefix": "rm(",
     "library": "var_list.r",
     "varRefreshCmd": "cat(var_dic_list()) "
    }
   },
   "types_to_exclude": [
    "module",
    "function",
    "builtin_function_or_method",
    "instance",
    "_Feature"
   ],
   "window_display": false
  }
 },
 "nbformat": 4,
 "nbformat_minor": 2
}
